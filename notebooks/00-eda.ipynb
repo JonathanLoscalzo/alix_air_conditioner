{
 "cells": [
  {
   "cell_type": "markdown",
   "metadata": {},
   "source": [
    "# EDA\n",
    "## Analizando columnas\n"
   ]
  },
  {
   "cell_type": "code",
   "execution_count": null,
   "metadata": {},
   "outputs": [],
   "source": [
    "%load_ext autoreload\n",
    "%autoreload 2"
   ]
  },
  {
   "cell_type": "code",
   "execution_count": 112,
   "metadata": {},
   "outputs": [],
   "source": [
    "import os\n",
    "import pandas as pd\n",
    "from pandas_profiling import ProfileReport\n",
    "import matplotlib.pyplot as plt\n",
    "import seaborn as sns\n",
    "import numpy as np\n",
    "plt.style.use('ggplot')\n",
    "%matplotlib inline"
   ]
  },
  {
   "cell_type": "code",
   "execution_count": null,
   "metadata": {},
   "outputs": [],
   "source": [
    "from src.data.location_notebook import get_location"
   ]
  },
  {
   "cell_type": "code",
   "execution_count": null,
   "metadata": {},
   "outputs": [],
   "source": [
    "(DATA_DIR, DATA_DIR_PROCESSED, \n",
    "INTERMEDIATE_RESULTS, GROUP_INTERMEDIATE_RESULTS, \n",
    "CLEANED_DS , TRAIN_RAW_FILE, \n",
    "VALIDATION_RAW_FILE, TEMPLATE_SUBMIT) = get_location()"
   ]
  },
  {
   "cell_type": "code",
   "execution_count": null,
   "metadata": {},
   "outputs": [],
   "source": [
    "date_columns = [\n",
    "    \"Account_Created_Date\", \n",
    "    \"Opportunity_Created_Date\",\n",
    "    \"Last_Activity\",\n",
    "    \"Quote_Expiry_Date\",\n",
    "    \"Last_Modified_Date\",\n",
    "    \"Planned_Delivery_Start_Date\",\n",
    "    \"Planned_Delivery_End_Date\",\n",
    "    \"Actual_Delivery_Date\"\n",
    "]\n",
    "\n",
    "df_train = pd.read_csv(os.path.join(DATA_DIR, TRAIN_RAW_FILE), parse_dates=date_columns, na_values=[\"None\"])\n",
    "df_val = pd.read_csv(os.path.join(DATA_DIR, VALIDATION_RAW_FILE), parse_dates=date_columns, na_values=[\"None\"])\n",
    "\n",
    "template_submit = pd.read_csv(os.path.join(DATA_DIR, TEMPLATE_SUBMIT))"
   ]
  },
  {
   "cell_type": "code",
   "execution_count": null,
   "metadata": {},
   "outputs": [],
   "source": [
    "df_train.loc[:, ~df_train.columns.isin(df_val.columns)].columns"
   ]
  },
  {
   "cell_type": "code",
   "execution_count": null,
   "metadata": {},
   "outputs": [],
   "source": [
    "df_val.loc[:, ~df_val.columns.isin(df_train.columns)].columns"
   ]
  },
  {
   "cell_type": "markdown",
   "metadata": {},
   "source": [
    "Tiene sentido que la única columna que falte, es la columna que tenemos que predecir, nuestro target, \"Stage\""
   ]
  },
  {
   "cell_type": "code",
   "execution_count": null,
   "metadata": {},
   "outputs": [],
   "source": [
    "print(\"Tamaño Train: {}, Tamaño Validation: {}, Tamaño Submit-Ejemplo: {}\".format(len(df_train), len(df_val), len(template_submit)))"
   ]
  },
  {
   "cell_type": "code",
   "execution_count": null,
   "metadata": {},
   "outputs": [],
   "source": [
    "print(\"Oportunidades Train: {}, Oportunidades Validation: {}\".format(df_train.Opportunity_ID.nunique(), df_val.Opportunity_ID.nunique()))"
   ]
  },
  {
   "cell_type": "markdown",
   "metadata": {},
   "source": [
    "## Analisis Exploratorio General"
   ]
  },
  {
   "cell_type": "code",
   "execution_count": null,
   "metadata": {},
   "outputs": [],
   "source": [
    "df_train.describe()"
   ]
  },
  {
   "cell_type": "code",
   "execution_count": null,
   "metadata": {},
   "outputs": [],
   "source": [
    "df_train.info()"
   ]
  },
  {
   "cell_type": "markdown",
   "metadata": {},
   "source": [
    "profile = ProfileReport(df_train, title='Reporte', explorative=True, minimal=True)\n",
    "profile2 = ProfileReport(df_val, title='Reporte Validacion', explorative=True, minimal=True)"
   ]
  },
  {
   "cell_type": "markdown",
   "metadata": {},
   "source": [
    "La siguiente linea tarda mucho tiempo"
   ]
  },
  {
   "cell_type": "code",
   "execution_count": null,
   "metadata": {},
   "outputs": [],
   "source": [
    "# _ = profile.to_file(\"../reports/reporte_train.html\")\n",
    "# _ = profile2.to_file(\"../reports/reporte_valid.html\")"
   ]
  },
  {
   "cell_type": "markdown",
   "metadata": {},
   "source": [
    "En análisis simple se describe en el reporte, acá se ven relaciones entre features o consultas más complejas."
   ]
  },
  {
   "cell_type": "markdown",
   "metadata": {},
   "source": [
    "### Products"
   ]
  },
  {
   "cell_type": "markdown",
   "metadata": {},
   "source": [
    "Q: Cuantos products hay?\n",
    "A: 506"
   ]
  },
  {
   "cell_type": "code",
   "execution_count": null,
   "metadata": {},
   "outputs": [],
   "source": [
    "df_train.Product_Name.nunique(), df_val.Product_Name.nunique(), df_train.Product_Name.append(df_val.Product_Name).nunique()"
   ]
  },
  {
   "cell_type": "markdown",
   "metadata": {},
   "source": [
    "Q: Cuantos products hay en validación que también están en training?\n",
    "A: 141"
   ]
  },
  {
   "cell_type": "code",
   "execution_count": null,
   "metadata": {},
   "outputs": [],
   "source": [
    "df_train.Product_Name.append(df_val.Product_Name).nunique(), 456+191-506, 506 - 141"
   ]
  },
  {
   "cell_type": "markdown",
   "metadata": {},
   "source": [
    "Si en realidad hacemos one-hot de todos los productos, tendremos aproximadamente 141 columnas sin completar en train, pero 365 en validación. "
   ]
  },
  {
   "cell_type": "markdown",
   "metadata": {},
   "source": [
    "### Opportunity_Owner\n",
    "Q: Cuentas por Owner? "
   ]
  },
  {
   "cell_type": "code",
   "execution_count": null,
   "metadata": {},
   "outputs": [],
   "source": [
    "df_train[[\"Opportunity_Owner\", \"Account_Name\"]].groupby('Opportunity_Owner').count().sort_values(ascending=False, by='Account_Name')"
   ]
  },
  {
   "cell_type": "markdown",
   "metadata": {},
   "source": [
    "Q: Cuantas oportunidades por Owner?\n",
    "A: NOTA: los ejes no son los mismos"
   ]
  },
  {
   "cell_type": "code",
   "execution_count": null,
   "metadata": {},
   "outputs": [],
   "source": [
    "df_train.groupby('Opportunity_Owner').Opportunity_ID.nunique().sort_values(ascending=False).head(10).plot.barh()"
   ]
  },
  {
   "cell_type": "code",
   "execution_count": null,
   "metadata": {},
   "outputs": [],
   "source": [
    "df_train.groupby('Opportunity_Owner').Opportunity_ID.nunique().sort_values(ascending=True).head(10).plot.barh()"
   ]
  },
  {
   "cell_type": "markdown",
   "metadata": {},
   "source": [
    "Q: Owners en validación que no están en training?\n",
    "A: Solo hay 5, es decir son todos nuevos."
   ]
  },
  {
   "cell_type": "code",
   "execution_count": null,
   "metadata": {},
   "outputs": [],
   "source": [
    "df_train.Opportunity_Owner.nunique(), df_val.Opportunity_Owner.nunique()"
   ]
  },
  {
   "cell_type": "code",
   "execution_count": null,
   "metadata": {},
   "outputs": [],
   "source": [
    "df_train.Opportunity_Owner.append(df_val.Opportunity_Owner).nunique()"
   ]
  },
  {
   "cell_type": "code",
   "execution_count": null,
   "metadata": {},
   "outputs": [],
   "source": [
    "53+35-58"
   ]
  },
  {
   "cell_type": "markdown",
   "metadata": {},
   "source": [
    "### Acum_Total_Amount - Total_Taxable_Amount\n",
    "Descripción: Acumulamos el total POR oportunidad y descontamos el impuesto. "
   ]
  },
  {
   "cell_type": "code",
   "execution_count": 57,
   "metadata": {},
   "outputs": [],
   "source": [
    "rel = df_train[[\"Opportunity_ID\", \"Total_Amount\", \"Total_Taxable_Amount\"]].groupby(\"Opportunity_ID\").agg({'Total_Amount':'sum', 'Total_Taxable_Amount': \"mean\"})\n",
    "rel[\"diferencia\"] = rel.Total_Amount - rel.Total_Taxable_Amount"
   ]
  },
  {
   "cell_type": "markdown",
   "metadata": {},
   "source": [
    "Q: Cuantas Opportunidades tienen diferencia > 0 y al menos tiene impuesto.? \n",
    "A: 75"
   ]
  },
  {
   "cell_type": "code",
   "execution_count": 59,
   "metadata": {},
   "outputs": [
    {
     "data": {
      "text/html": [
       "<div>\n",
       "<style scoped>\n",
       "    .dataframe tbody tr th:only-of-type {\n",
       "        vertical-align: middle;\n",
       "    }\n",
       "\n",
       "    .dataframe tbody tr th {\n",
       "        vertical-align: top;\n",
       "    }\n",
       "\n",
       "    .dataframe thead th {\n",
       "        text-align: right;\n",
       "    }\n",
       "</style>\n",
       "<table border=\"1\" class=\"dataframe\">\n",
       "  <thead>\n",
       "    <tr style=\"text-align: right;\">\n",
       "      <th></th>\n",
       "      <th>Total_Amount</th>\n",
       "      <th>Total_Taxable_Amount</th>\n",
       "      <th>diferencia</th>\n",
       "    </tr>\n",
       "    <tr>\n",
       "      <th>Opportunity_ID</th>\n",
       "      <th></th>\n",
       "      <th></th>\n",
       "      <th></th>\n",
       "    </tr>\n",
       "  </thead>\n",
       "  <tbody>\n",
       "    <tr>\n",
       "      <th>417</th>\n",
       "      <td>1678696.43</td>\n",
       "      <td>1.678696e+06</td>\n",
       "      <td>2.328306e-10</td>\n",
       "    </tr>\n",
       "    <tr>\n",
       "      <th>553</th>\n",
       "      <td>10065653.85</td>\n",
       "      <td>1.006565e+07</td>\n",
       "      <td>1.862645e-09</td>\n",
       "    </tr>\n",
       "    <tr>\n",
       "      <th>767</th>\n",
       "      <td>10307538.56</td>\n",
       "      <td>1.030754e+07</td>\n",
       "      <td>1.862645e-09</td>\n",
       "    </tr>\n",
       "    <tr>\n",
       "      <th>801</th>\n",
       "      <td>10057887.60</td>\n",
       "      <td>5.841002e+06</td>\n",
       "      <td>4.216886e+06</td>\n",
       "    </tr>\n",
       "    <tr>\n",
       "      <th>1510</th>\n",
       "      <td>902211.70</td>\n",
       "      <td>4.367117e+05</td>\n",
       "      <td>4.655000e+05</td>\n",
       "    </tr>\n",
       "    <tr>\n",
       "      <th>...</th>\n",
       "      <td>...</td>\n",
       "      <td>...</td>\n",
       "      <td>...</td>\n",
       "    </tr>\n",
       "    <tr>\n",
       "      <th>12634</th>\n",
       "      <td>56953530.90</td>\n",
       "      <td>5.695353e+07</td>\n",
       "      <td>1.490116e-08</td>\n",
       "    </tr>\n",
       "    <tr>\n",
       "      <th>12651</th>\n",
       "      <td>3663431.25</td>\n",
       "      <td>3.238840e+06</td>\n",
       "      <td>4.245917e+05</td>\n",
       "    </tr>\n",
       "    <tr>\n",
       "      <th>12745</th>\n",
       "      <td>305235.00</td>\n",
       "      <td>2.698583e+05</td>\n",
       "      <td>3.537674e+04</td>\n",
       "    </tr>\n",
       "    <tr>\n",
       "      <th>12767</th>\n",
       "      <td>9009950.00</td>\n",
       "      <td>4.055000e+06</td>\n",
       "      <td>4.954950e+06</td>\n",
       "    </tr>\n",
       "    <tr>\n",
       "      <th>12785</th>\n",
       "      <td>6422400.60</td>\n",
       "      <td>6.422401e+06</td>\n",
       "      <td>9.313226e-10</td>\n",
       "    </tr>\n",
       "  </tbody>\n",
       "</table>\n",
       "<p>75 rows × 3 columns</p>\n",
       "</div>"
      ],
      "text/plain": [
       "                Total_Amount  Total_Taxable_Amount    diferencia\n",
       "Opportunity_ID                                                  \n",
       "417               1678696.43          1.678696e+06  2.328306e-10\n",
       "553              10065653.85          1.006565e+07  1.862645e-09\n",
       "767              10307538.56          1.030754e+07  1.862645e-09\n",
       "801              10057887.60          5.841002e+06  4.216886e+06\n",
       "1510               902211.70          4.367117e+05  4.655000e+05\n",
       "...                      ...                   ...           ...\n",
       "12634            56953530.90          5.695353e+07  1.490116e-08\n",
       "12651             3663431.25          3.238840e+06  4.245917e+05\n",
       "12745              305235.00          2.698583e+05  3.537674e+04\n",
       "12767             9009950.00          4.055000e+06  4.954950e+06\n",
       "12785             6422400.60          6.422401e+06  9.313226e-10\n",
       "\n",
       "[75 rows x 3 columns]"
      ]
     },
     "execution_count": 59,
     "metadata": {},
     "output_type": "execute_result"
    }
   ],
   "source": [
    "rel[((rel.Total_Amount != rel.diferencia) & (rel.diferencia > 0))]"
   ]
  },
  {
   "cell_type": "markdown",
   "metadata": {},
   "source": [
    "Q: Cuantas oportunidades tienen impuesto igual al amount?\n",
    "A: 9052"
   ]
  },
  {
   "cell_type": "code",
   "execution_count": 62,
   "metadata": {},
   "outputs": [
    {
     "data": {
      "text/html": [
       "<div>\n",
       "<style scoped>\n",
       "    .dataframe tbody tr th:only-of-type {\n",
       "        vertical-align: middle;\n",
       "    }\n",
       "\n",
       "    .dataframe tbody tr th {\n",
       "        vertical-align: top;\n",
       "    }\n",
       "\n",
       "    .dataframe thead th {\n",
       "        text-align: right;\n",
       "    }\n",
       "</style>\n",
       "<table border=\"1\" class=\"dataframe\">\n",
       "  <thead>\n",
       "    <tr style=\"text-align: right;\">\n",
       "      <th></th>\n",
       "      <th>Total_Amount</th>\n",
       "      <th>Total_Taxable_Amount</th>\n",
       "      <th>diferencia</th>\n",
       "    </tr>\n",
       "    <tr>\n",
       "      <th>Opportunity_ID</th>\n",
       "      <th></th>\n",
       "      <th></th>\n",
       "      <th></th>\n",
       "    </tr>\n",
       "  </thead>\n",
       "  <tbody>\n",
       "    <tr>\n",
       "      <th>0</th>\n",
       "      <td>5272800.00</td>\n",
       "      <td>5272800.00</td>\n",
       "      <td>0.0</td>\n",
       "    </tr>\n",
       "    <tr>\n",
       "      <th>1</th>\n",
       "      <td>48230.00</td>\n",
       "      <td>48230.00</td>\n",
       "      <td>0.0</td>\n",
       "    </tr>\n",
       "    <tr>\n",
       "      <th>2</th>\n",
       "      <td>83865.60</td>\n",
       "      <td>83865.60</td>\n",
       "      <td>0.0</td>\n",
       "    </tr>\n",
       "    <tr>\n",
       "      <th>3</th>\n",
       "      <td>7421881.50</td>\n",
       "      <td>7421881.50</td>\n",
       "      <td>0.0</td>\n",
       "    </tr>\n",
       "    <tr>\n",
       "      <th>4</th>\n",
       "      <td>13357192.50</td>\n",
       "      <td>13357192.50</td>\n",
       "      <td>0.0</td>\n",
       "    </tr>\n",
       "    <tr>\n",
       "      <th>...</th>\n",
       "      <td>...</td>\n",
       "      <td>...</td>\n",
       "      <td>...</td>\n",
       "    </tr>\n",
       "    <tr>\n",
       "      <th>12797</th>\n",
       "      <td>528918.75</td>\n",
       "      <td>528918.75</td>\n",
       "      <td>0.0</td>\n",
       "    </tr>\n",
       "    <tr>\n",
       "      <th>12798</th>\n",
       "      <td>1307775.00</td>\n",
       "      <td>1307775.00</td>\n",
       "      <td>0.0</td>\n",
       "    </tr>\n",
       "    <tr>\n",
       "      <th>12799</th>\n",
       "      <td>401700.00</td>\n",
       "      <td>401700.00</td>\n",
       "      <td>0.0</td>\n",
       "    </tr>\n",
       "    <tr>\n",
       "      <th>12800</th>\n",
       "      <td>21332500.00</td>\n",
       "      <td>21332500.00</td>\n",
       "      <td>0.0</td>\n",
       "    </tr>\n",
       "    <tr>\n",
       "      <th>12801</th>\n",
       "      <td>299715.00</td>\n",
       "      <td>299715.00</td>\n",
       "      <td>0.0</td>\n",
       "    </tr>\n",
       "  </tbody>\n",
       "</table>\n",
       "<p>9052 rows × 3 columns</p>\n",
       "</div>"
      ],
      "text/plain": [
       "                Total_Amount  Total_Taxable_Amount  diferencia\n",
       "Opportunity_ID                                                \n",
       "0                 5272800.00            5272800.00         0.0\n",
       "1                   48230.00              48230.00         0.0\n",
       "2                   83865.60              83865.60         0.0\n",
       "3                 7421881.50            7421881.50         0.0\n",
       "4                13357192.50           13357192.50         0.0\n",
       "...                      ...                   ...         ...\n",
       "12797              528918.75             528918.75         0.0\n",
       "12798             1307775.00            1307775.00         0.0\n",
       "12799              401700.00             401700.00         0.0\n",
       "12800            21332500.00           21332500.00         0.0\n",
       "12801              299715.00             299715.00         0.0\n",
       "\n",
       "[9052 rows x 3 columns]"
      ]
     },
     "execution_count": 62,
     "metadata": {},
     "output_type": "execute_result"
    }
   ],
   "source": [
    "rel[(rel.diferencia == 0)]"
   ]
  },
  {
   "cell_type": "markdown",
   "metadata": {},
   "source": [
    "### Target: Stage\n",
    "- La variable Stage está un poco desbalanceada a los casos positivos (Close Won). \n",
    "- Hay más variables que deberíamos reagrupar en una nueva categoría.\n",
    "- Podríamos agrugar en categoría \"Close Won\", \"Closed Lost\" y \"Otros\"\n",
    "    - según la máquina de estados las otras oportunidades no son Closed Lost"
   ]
  },
  {
   "cell_type": "code",
   "execution_count": 63,
   "metadata": {},
   "outputs": [
    {
     "data": {
      "text/plain": [
       "<matplotlib.axes._subplots.AxesSubplot at 0x7fa17811f320>"
      ]
     },
     "execution_count": 63,
     "metadata": {},
     "output_type": "execute_result"
    },
    {
     "data": {
      "image/png": "[encoded data removed]",
      "text/plain": [
       "<Figure size 432x288 with 1 Axes>"
      ]
     },
     "metadata": {
      "needs_background": "light"
     },
     "output_type": "display_data"
    }
   ],
   "source": [
    "df_train.Stage.value_counts().plot.bar()"
   ]
  },
  {
   "cell_type": "markdown",
   "metadata": {},
   "source": [
    "Cargamos el dataset ya curado en la notebook 01."
   ]
  },
  {
   "cell_type": "code",
   "execution_count": 64,
   "metadata": {},
   "outputs": [],
   "source": [
    "df = pd.read_parquet(INTERMEDIATE_RESULTS)\n",
    "df_train = df_train.merge(df, on=\"Opportunity_ID\", how='left', suffixes=(\"_x\", \"\"))"
   ]
  },
  {
   "cell_type": "code",
   "execution_count": 65,
   "metadata": {},
   "outputs": [],
   "source": [
    "cols_drop = df_train.columns[df_train.columns.str.contains(\"_x\")]\n",
    "df_train = df_train.loc[:, ~df_train.columns.isin(cols_drop)]"
   ]
  },
  {
   "cell_type": "markdown",
   "metadata": {},
   "source": [
    "Tratamos a stage como una serie temporal. Como va evolucionando en general por mes-año."
   ]
  },
  {
   "cell_type": "code",
   "execution_count": 87,
   "metadata": {},
   "outputs": [
    {
     "data": {
      "text/html": [
       "<div>\n",
       "<style scoped>\n",
       "    .dataframe tbody tr th:only-of-type {\n",
       "        vertical-align: middle;\n",
       "    }\n",
       "\n",
       "    .dataframe tbody tr th {\n",
       "        vertical-align: top;\n",
       "    }\n",
       "\n",
       "    .dataframe thead th {\n",
       "        text-align: right;\n",
       "    }\n",
       "</style>\n",
       "<table border=\"1\" class=\"dataframe\">\n",
       "  <thead>\n",
       "    <tr style=\"text-align: right;\">\n",
       "      <th>Stage</th>\n",
       "      <th>Closed Lost</th>\n",
       "      <th>Closed Won</th>\n",
       "    </tr>\n",
       "    <tr>\n",
       "      <th>Opportunity_Created_Date</th>\n",
       "      <th></th>\n",
       "      <th></th>\n",
       "    </tr>\n",
       "  </thead>\n",
       "  <tbody>\n",
       "    <tr>\n",
       "      <th>2013-11-01</th>\n",
       "      <td>1.0</td>\n",
       "      <td>NaN</td>\n",
       "    </tr>\n",
       "    <tr>\n",
       "      <th>2014-03-01</th>\n",
       "      <td>5.0</td>\n",
       "      <td>NaN</td>\n",
       "    </tr>\n",
       "    <tr>\n",
       "      <th>2014-05-01</th>\n",
       "      <td>1.0</td>\n",
       "      <td>4.0</td>\n",
       "    </tr>\n",
       "    <tr>\n",
       "      <th>2014-06-01</th>\n",
       "      <td>NaN</td>\n",
       "      <td>4.0</td>\n",
       "    </tr>\n",
       "    <tr>\n",
       "      <th>2014-07-01</th>\n",
       "      <td>2.0</td>\n",
       "      <td>NaN</td>\n",
       "    </tr>\n",
       "    <tr>\n",
       "      <th>2014-08-01</th>\n",
       "      <td>NaN</td>\n",
       "      <td>2.0</td>\n",
       "    </tr>\n",
       "    <tr>\n",
       "      <th>2014-09-01</th>\n",
       "      <td>41.0</td>\n",
       "      <td>NaN</td>\n",
       "    </tr>\n",
       "    <tr>\n",
       "      <th>2014-10-01</th>\n",
       "      <td>6.0</td>\n",
       "      <td>1.0</td>\n",
       "    </tr>\n",
       "    <tr>\n",
       "      <th>2014-12-01</th>\n",
       "      <td>2.0</td>\n",
       "      <td>68.0</td>\n",
       "    </tr>\n",
       "    <tr>\n",
       "      <th>2015-01-01</th>\n",
       "      <td>39.0</td>\n",
       "      <td>NaN</td>\n",
       "    </tr>\n",
       "    <tr>\n",
       "      <th>2015-02-01</th>\n",
       "      <td>8.0</td>\n",
       "      <td>1.0</td>\n",
       "    </tr>\n",
       "    <tr>\n",
       "      <th>2015-03-01</th>\n",
       "      <td>6.0</td>\n",
       "      <td>18.0</td>\n",
       "    </tr>\n",
       "    <tr>\n",
       "      <th>2015-04-01</th>\n",
       "      <td>42.0</td>\n",
       "      <td>38.0</td>\n",
       "    </tr>\n",
       "    <tr>\n",
       "      <th>2015-05-01</th>\n",
       "      <td>64.0</td>\n",
       "      <td>1303.0</td>\n",
       "    </tr>\n",
       "    <tr>\n",
       "      <th>2015-06-01</th>\n",
       "      <td>31.0</td>\n",
       "      <td>37.0</td>\n",
       "    </tr>\n",
       "    <tr>\n",
       "      <th>2015-07-01</th>\n",
       "      <td>135.0</td>\n",
       "      <td>4.0</td>\n",
       "    </tr>\n",
       "    <tr>\n",
       "      <th>2015-08-01</th>\n",
       "      <td>153.0</td>\n",
       "      <td>3.0</td>\n",
       "    </tr>\n",
       "    <tr>\n",
       "      <th>2015-09-01</th>\n",
       "      <td>809.0</td>\n",
       "      <td>237.0</td>\n",
       "    </tr>\n",
       "    <tr>\n",
       "      <th>2015-10-01</th>\n",
       "      <td>181.0</td>\n",
       "      <td>116.0</td>\n",
       "    </tr>\n",
       "    <tr>\n",
       "      <th>2015-11-01</th>\n",
       "      <td>462.0</td>\n",
       "      <td>88.0</td>\n",
       "    </tr>\n",
       "    <tr>\n",
       "      <th>2015-12-01</th>\n",
       "      <td>786.0</td>\n",
       "      <td>311.0</td>\n",
       "    </tr>\n",
       "    <tr>\n",
       "      <th>2016-01-01</th>\n",
       "      <td>1727.0</td>\n",
       "      <td>718.0</td>\n",
       "    </tr>\n",
       "    <tr>\n",
       "      <th>2016-02-01</th>\n",
       "      <td>1331.0</td>\n",
       "      <td>274.0</td>\n",
       "    </tr>\n",
       "    <tr>\n",
       "      <th>2016-03-01</th>\n",
       "      <td>804.0</td>\n",
       "      <td>454.0</td>\n",
       "    </tr>\n",
       "    <tr>\n",
       "      <th>2016-04-01</th>\n",
       "      <td>599.0</td>\n",
       "      <td>675.0</td>\n",
       "    </tr>\n",
       "    <tr>\n",
       "      <th>2016-05-01</th>\n",
       "      <td>759.0</td>\n",
       "      <td>393.0</td>\n",
       "    </tr>\n",
       "    <tr>\n",
       "      <th>2016-06-01</th>\n",
       "      <td>387.0</td>\n",
       "      <td>383.0</td>\n",
       "    </tr>\n",
       "    <tr>\n",
       "      <th>2016-07-01</th>\n",
       "      <td>206.0</td>\n",
       "      <td>2076.0</td>\n",
       "    </tr>\n",
       "    <tr>\n",
       "      <th>2016-08-01</th>\n",
       "      <td>138.0</td>\n",
       "      <td>360.0</td>\n",
       "    </tr>\n",
       "    <tr>\n",
       "      <th>2016-09-01</th>\n",
       "      <td>258.0</td>\n",
       "      <td>697.0</td>\n",
       "    </tr>\n",
       "    <tr>\n",
       "      <th>2016-10-01</th>\n",
       "      <td>990.0</td>\n",
       "      <td>668.0</td>\n",
       "    </tr>\n",
       "    <tr>\n",
       "      <th>2016-11-01</th>\n",
       "      <td>143.0</td>\n",
       "      <td>941.0</td>\n",
       "    </tr>\n",
       "    <tr>\n",
       "      <th>2016-12-01</th>\n",
       "      <td>485.0</td>\n",
       "      <td>411.0</td>\n",
       "    </tr>\n",
       "    <tr>\n",
       "      <th>2017-01-01</th>\n",
       "      <td>308.0</td>\n",
       "      <td>1050.0</td>\n",
       "    </tr>\n",
       "    <tr>\n",
       "      <th>2017-02-01</th>\n",
       "      <td>303.0</td>\n",
       "      <td>1165.0</td>\n",
       "    </tr>\n",
       "    <tr>\n",
       "      <th>2017-03-01</th>\n",
       "      <td>401.0</td>\n",
       "      <td>1635.0</td>\n",
       "    </tr>\n",
       "    <tr>\n",
       "      <th>2017-04-01</th>\n",
       "      <td>439.0</td>\n",
       "      <td>1402.0</td>\n",
       "    </tr>\n",
       "    <tr>\n",
       "      <th>2017-05-01</th>\n",
       "      <td>403.0</td>\n",
       "      <td>1571.0</td>\n",
       "    </tr>\n",
       "    <tr>\n",
       "      <th>2017-06-01</th>\n",
       "      <td>1191.0</td>\n",
       "      <td>1801.0</td>\n",
       "    </tr>\n",
       "    <tr>\n",
       "      <th>2017-07-01</th>\n",
       "      <td>241.0</td>\n",
       "      <td>719.0</td>\n",
       "    </tr>\n",
       "    <tr>\n",
       "      <th>2017-08-01</th>\n",
       "      <td>167.0</td>\n",
       "      <td>682.0</td>\n",
       "    </tr>\n",
       "    <tr>\n",
       "      <th>2017-09-01</th>\n",
       "      <td>299.0</td>\n",
       "      <td>1571.0</td>\n",
       "    </tr>\n",
       "    <tr>\n",
       "      <th>2017-10-01</th>\n",
       "      <td>639.0</td>\n",
       "      <td>1677.0</td>\n",
       "    </tr>\n",
       "    <tr>\n",
       "      <th>2017-11-01</th>\n",
       "      <td>1753.0</td>\n",
       "      <td>1439.0</td>\n",
       "    </tr>\n",
       "    <tr>\n",
       "      <th>2017-12-01</th>\n",
       "      <td>903.0</td>\n",
       "      <td>733.0</td>\n",
       "    </tr>\n",
       "    <tr>\n",
       "      <th>2018-01-01</th>\n",
       "      <td>1056.0</td>\n",
       "      <td>1629.0</td>\n",
       "    </tr>\n",
       "    <tr>\n",
       "      <th>2018-02-01</th>\n",
       "      <td>471.0</td>\n",
       "      <td>787.0</td>\n",
       "    </tr>\n",
       "    <tr>\n",
       "      <th>2018-03-01</th>\n",
       "      <td>508.0</td>\n",
       "      <td>912.0</td>\n",
       "    </tr>\n",
       "    <tr>\n",
       "      <th>2018-04-01</th>\n",
       "      <td>271.0</td>\n",
       "      <td>932.0</td>\n",
       "    </tr>\n",
       "    <tr>\n",
       "      <th>2018-05-01</th>\n",
       "      <td>479.0</td>\n",
       "      <td>1281.0</td>\n",
       "    </tr>\n",
       "    <tr>\n",
       "      <th>2018-06-01</th>\n",
       "      <td>449.0</td>\n",
       "      <td>932.0</td>\n",
       "    </tr>\n",
       "    <tr>\n",
       "      <th>2018-07-01</th>\n",
       "      <td>522.0</td>\n",
       "      <td>362.0</td>\n",
       "    </tr>\n",
       "    <tr>\n",
       "      <th>2018-08-01</th>\n",
       "      <td>286.0</td>\n",
       "      <td>472.0</td>\n",
       "    </tr>\n",
       "    <tr>\n",
       "      <th>2018-09-01</th>\n",
       "      <td>167.0</td>\n",
       "      <td>419.0</td>\n",
       "    </tr>\n",
       "    <tr>\n",
       "      <th>2018-10-01</th>\n",
       "      <td>230.0</td>\n",
       "      <td>614.0</td>\n",
       "    </tr>\n",
       "    <tr>\n",
       "      <th>2018-11-01</th>\n",
       "      <td>206.0</td>\n",
       "      <td>514.0</td>\n",
       "    </tr>\n",
       "    <tr>\n",
       "      <th>2018-12-01</th>\n",
       "      <td>53.0</td>\n",
       "      <td>245.0</td>\n",
       "    </tr>\n",
       "  </tbody>\n",
       "</table>\n",
       "</div>"
      ],
      "text/plain": [
       "Stage                     Closed Lost  Closed Won\n",
       "Opportunity_Created_Date                         \n",
       "2013-11-01                        1.0         NaN\n",
       "2014-03-01                        5.0         NaN\n",
       "2014-05-01                        1.0         4.0\n",
       "2014-06-01                        NaN         4.0\n",
       "2014-07-01                        2.0         NaN\n",
       "2014-08-01                        NaN         2.0\n",
       "2014-09-01                       41.0         NaN\n",
       "2014-10-01                        6.0         1.0\n",
       "2014-12-01                        2.0        68.0\n",
       "2015-01-01                       39.0         NaN\n",
       "2015-02-01                        8.0         1.0\n",
       "2015-03-01                        6.0        18.0\n",
       "2015-04-01                       42.0        38.0\n",
       "2015-05-01                       64.0      1303.0\n",
       "2015-06-01                       31.0        37.0\n",
       "2015-07-01                      135.0         4.0\n",
       "2015-08-01                      153.0         3.0\n",
       "2015-09-01                      809.0       237.0\n",
       "2015-10-01                      181.0       116.0\n",
       "2015-11-01                      462.0        88.0\n",
       "2015-12-01                      786.0       311.0\n",
       "2016-01-01                     1727.0       718.0\n",
       "2016-02-01                     1331.0       274.0\n",
       "2016-03-01                      804.0       454.0\n",
       "2016-04-01                      599.0       675.0\n",
       "2016-05-01                      759.0       393.0\n",
       "2016-06-01                      387.0       383.0\n",
       "2016-07-01                      206.0      2076.0\n",
       "2016-08-01                      138.0       360.0\n",
       "2016-09-01                      258.0       697.0\n",
       "2016-10-01                      990.0       668.0\n",
       "2016-11-01                      143.0       941.0\n",
       "2016-12-01                      485.0       411.0\n",
       "2017-01-01                      308.0      1050.0\n",
       "2017-02-01                      303.0      1165.0\n",
       "2017-03-01                      401.0      1635.0\n",
       "2017-04-01                      439.0      1402.0\n",
       "2017-05-01                      403.0      1571.0\n",
       "2017-06-01                     1191.0      1801.0\n",
       "2017-07-01                      241.0       719.0\n",
       "2017-08-01                      167.0       682.0\n",
       "2017-09-01                      299.0      1571.0\n",
       "2017-10-01                      639.0      1677.0\n",
       "2017-11-01                     1753.0      1439.0\n",
       "2017-12-01                      903.0       733.0\n",
       "2018-01-01                     1056.0      1629.0\n",
       "2018-02-01                      471.0       787.0\n",
       "2018-03-01                      508.0       912.0\n",
       "2018-04-01                      271.0       932.0\n",
       "2018-05-01                      479.0      1281.0\n",
       "2018-06-01                      449.0       932.0\n",
       "2018-07-01                      522.0       362.0\n",
       "2018-08-01                      286.0       472.0\n",
       "2018-09-01                      167.0       419.0\n",
       "2018-10-01                      230.0       614.0\n",
       "2018-11-01                      206.0       514.0\n",
       "2018-12-01                       53.0       245.0"
      ]
     },
     "execution_count": 87,
     "metadata": {},
     "output_type": "execute_result"
    }
   ],
   "source": [
    "ts = df_train.groupby(df_train.Opportunity_Created_Date.dt.year*100 + df_train.Opportunity_Created_Date.dt.month).Stage.value_counts().to_frame()\n",
    "ts.columns = [\"Count\"]\n",
    "ts = ts.reset_index()\n",
    "ts = ts.pivot(index=\"Opportunity_Created_Date\", columns='Stage', values='Count')[[\"Closed Lost\", \"Closed Won\"]]\n",
    "ts.index  = pd.to_datetime(ts.reset_index().Opportunity_Created_Date, format='%Y%m')\n",
    "ts"
   ]
  },
  {
   "cell_type": "code",
   "execution_count": 91,
   "metadata": {},
   "outputs": [
    {
     "data": {
      "text/plain": [
       "<matplotlib.axes._subplots.AxesSubplot at 0x7fa149af3668>"
      ]
     },
     "execution_count": 91,
     "metadata": {},
     "output_type": "execute_result"
    },
    {
     "data": {
      "image/png": "[encoded data removed]",
      "text/plain": [
       "<Figure size 1080x432 with 1 Axes>"
      ]
     },
     "metadata": {
      "needs_background": "light"
     },
     "output_type": "display_data"
    }
   ],
   "source": [
    "ts.plot.line(figsize=(15,6))"
   ]
  },
  {
   "cell_type": "markdown",
   "metadata": {},
   "source": [
    "Comparamos las oportunidades 2017 y 2018 entre regiones."
   ]
  },
  {
   "cell_type": "code",
   "execution_count": 97,
   "metadata": {},
   "outputs": [],
   "source": [
    "d = df_train[df_train.Opportunity_Created_Date.dt.year >= 2017]\\\n",
    "    .groupby(['Region', df_train.Opportunity_Created_Date.dt.year*100+df_train.Opportunity_Created_Date.dt.month, \"Stage\"])\\\n",
    "    .Opportunity_ID\\\n",
    "    .nunique().to_frame()\\\n",
    "    .reset_index()"
   ]
  },
  {
   "cell_type": "code",
   "execution_count": 98,
   "metadata": {},
   "outputs": [],
   "source": [
    "d['Opportunity_Created_Date'] = pd.to_datetime(d.reset_index().Opportunity_Created_Date, format='%Y%m')"
   ]
  },
  {
   "cell_type": "markdown",
   "metadata": {},
   "source": [
    "Verificamos por contrato cual es la distribución de Stage\n",
    "- sales_contract_no: # contrato, si no tiene va en nan. \n",
    "    - se confirmó en la competencia que esta columna es data-leakage. \n",
    "    - Al parecer, una persona que firma un contrato, cuando se adjudica un won\n",
    "- quote_type: tipo de presupuesto (Categórica)"
   ]
  },
  {
   "cell_type": "code",
   "execution_count": 105,
   "metadata": {},
   "outputs": [],
   "source": [
    "df_train.loc[:, 'has_contract'] = ~df_train.Sales_Contract_No.isna()"
   ]
  },
  {
   "cell_type": "code",
   "execution_count": 151,
   "metadata": {},
   "outputs": [
    {
     "data": {
      "text/html": [
       "<div>\n",
       "<style scoped>\n",
       "    .dataframe tbody tr th:only-of-type {\n",
       "        vertical-align: middle;\n",
       "    }\n",
       "\n",
       "    .dataframe tbody tr th {\n",
       "        vertical-align: top;\n",
       "    }\n",
       "\n",
       "    .dataframe thead th {\n",
       "        text-align: right;\n",
       "    }\n",
       "</style>\n",
       "<table border=\"1\" class=\"dataframe\">\n",
       "  <thead>\n",
       "    <tr style=\"text-align: right;\">\n",
       "      <th>Stage</th>\n",
       "      <th>Closed Lost</th>\n",
       "      <th>Closed Won</th>\n",
       "      <th>Negotiation</th>\n",
       "      <th>Proposal</th>\n",
       "      <th>Qualification</th>\n",
       "    </tr>\n",
       "    <tr>\n",
       "      <th>has_contract</th>\n",
       "      <th></th>\n",
       "      <th></th>\n",
       "      <th></th>\n",
       "      <th></th>\n",
       "      <th></th>\n",
       "    </tr>\n",
       "  </thead>\n",
       "  <tbody>\n",
       "    <tr>\n",
       "      <th>False</th>\n",
       "      <td>19987</td>\n",
       "      <td>274</td>\n",
       "      <td>18</td>\n",
       "      <td>35</td>\n",
       "      <td>11</td>\n",
       "    </tr>\n",
       "    <tr>\n",
       "      <th>True</th>\n",
       "      <td>2359</td>\n",
       "      <td>34555</td>\n",
       "      <td>0</td>\n",
       "      <td>0</td>\n",
       "      <td>0</td>\n",
       "    </tr>\n",
       "  </tbody>\n",
       "</table>\n",
       "</div>"
      ],
      "text/plain": [
       "Stage         Closed Lost  Closed Won  Negotiation  Proposal  Qualification\n",
       "has_contract                                                               \n",
       "False               19987         274           18        35             11\n",
       "True                 2359       34555            0         0              0"
      ]
     },
     "execution_count": 151,
     "metadata": {},
     "output_type": "execute_result"
    }
   ],
   "source": [
    "pd.crosstab(df_train.has_contract, df_train[\"Stage\"],  margins = False)"
   ]
  },
  {
   "cell_type": "markdown",
   "metadata": {},
   "source": [
    "- Se puede ver que la gran parte de los que tienen contratos, se cerraron ganadoras y las que no tienen contrato, se cerraron perdedoras. \n",
    "- La idea de los splits de arboles, es que las clases queden \"homogeneas\", así tenemos más ganancia de información. \n",
    "\n",
    "ver: [Ganancia de Información- PUCC](https://www.coursera.org/lecture/mineria-de-datos-introduccion/ganancia-de-informacion-zenxs)"
   ]
  },
  {
   "cell_type": "code",
   "execution_count": 106,
   "metadata": {},
   "outputs": [
    {
     "data": {
      "text/plain": [
       "<matplotlib.axes._subplots.AxesSubplot at 0x7fa147cd0b00>"
      ]
     },
     "execution_count": 106,
     "metadata": {},
     "output_type": "execute_result"
    },
    {
     "data": {
      "image/png": "[encoded data removed]",
      "text/plain": [
       "<Figure size 432x288 with 1 Axes>"
      ]
     },
     "metadata": {
      "needs_background": "light"
     },
     "output_type": "display_data"
    }
   ],
   "source": [
    "df_train.groupby('Stage').has_contract.value_counts().plot.barh()"
   ]
  },
  {
   "cell_type": "code",
   "execution_count": 110,
   "metadata": {},
   "outputs": [],
   "source": [
    "df_train.groupby('Stage').Opportunity_ID.nunique()"
   ]
  },
  {
   "cell_type": "code",
   "execution_count": 122,
   "metadata": {},
   "outputs": [],
   "source": [
    "def entropy(weight):\n",
    "    size = weight.sum()\n",
    "    e = (-weight/size * np.log2(weight/size)).sum()\n",
    "    return e"
   ]
  },
  {
   "cell_type": "code",
   "execution_count": 127,
   "metadata": {},
   "outputs": [
    {
     "data": {
      "text/plain": [
       "0.999062148713672"
      ]
     },
     "execution_count": 127,
     "metadata": {},
     "output_type": "execute_result"
    }
   ],
   "source": [
    "closed_lost_size = 4719\n",
    "closed_won_size = 5072\n",
    "entropia_inicial = entropy(np.array([4719,5072]))\n",
    "entropia_inicial"
   ]
  },
  {
   "cell_type": "code",
   "execution_count": 118,
   "metadata": {},
   "outputs": [
    {
     "data": {
      "text/plain": [
       "Stage\n",
       "Closed Lost     295\n",
       "Closed Won     4971\n",
       "Name: Opportunity_ID, dtype: int64"
      ]
     },
     "execution_count": 118,
     "metadata": {},
     "output_type": "execute_result"
    }
   ],
   "source": [
    "# calculamos entropia al dividir por has_contract\n",
    "df_train[df_train.has_contract==True].groupby('Stage').Opportunity_ID.nunique()"
   ]
  },
  {
   "cell_type": "code",
   "execution_count": 123,
   "metadata": {},
   "outputs": [
    {
     "data": {
      "text/plain": [
       "Stage\n",
       "Closed Lost      4424\n",
       "Closed Won        101\n",
       "Negotiation        11\n",
       "Proposal           30\n",
       "Qualification       9\n",
       "Name: Opportunity_ID, dtype: int64"
      ]
     },
     "execution_count": 123,
     "metadata": {},
     "output_type": "execute_result"
    }
   ],
   "source": [
    "df_train[df_train.has_contract==False].groupby('Stage').Opportunity_ID.nunique()"
   ]
  },
  {
   "cell_type": "code",
   "execution_count": 125,
   "metadata": {},
   "outputs": [],
   "source": [
    "entropia_true = entropy(np.array([295,4971]))\n",
    "entropia_false = entropy(np.array([4424,101]))\n",
    "entropia_true, entropia_false"
   ]
  },
  {
   "cell_type": "code",
   "execution_count": 130,
   "metadata": {},
   "outputs": [
    {
     "data": {
      "text/plain": [
       "0.7619747823911445"
      ]
     },
     "execution_count": 130,
     "metadata": {},
     "output_type": "execute_result"
    }
   ],
   "source": [
    "# information gain = entropia inicial - sum x split * entropia_split\n",
    "entropia_inicial - ( (4424+101)/(4719+5072) * entropia_false) -  ( (295+4917)/(4719+5072) * entropia_true)\n",
    "\n",
    "# hay que elegir la que tiene el information gain más alto. "
   ]
  },
  {
   "cell_type": "markdown",
   "metadata": {},
   "source": [
    "Revisamos Quote_Type para ver si es un buen indicador para realizar split."
   ]
  },
  {
   "cell_type": "code",
   "execution_count": 139,
   "metadata": {},
   "outputs": [
    {
     "data": {
      "text/plain": [
       "<matplotlib.axes._subplots.AxesSubplot at 0x7fa147b9a0b8>"
      ]
     },
     "execution_count": 139,
     "metadata": {},
     "output_type": "execute_result"
    },
    {
     "data": {
      "image/png": "[encoded data removed]",
      "text/plain": [
       "<Figure size 432x288 with 1 Axes>"
      ]
     },
     "metadata": {
      "needs_background": "light"
     },
     "output_type": "display_data"
    }
   ],
   "source": [
    "df_train.groupby('Stage').Quote_Type.value_counts().plot.barh()"
   ]
  },
  {
   "cell_type": "code",
   "execution_count": 140,
   "metadata": {},
   "outputs": [
    {
     "data": {
      "text/plain": [
       "Stage        Quote_Type\n",
       "Closed Lost  1.0           4650\n",
       "             0.0             66\n",
       "Closed Won   1.0           5007\n",
       "             0.0             64\n",
       "Name: Quote_Type, dtype: int64"
      ]
     },
     "execution_count": 140,
     "metadata": {},
     "output_type": "execute_result"
    }
   ],
   "source": [
    "df_train[['Stage', \"Opportunity_ID\",\"Quote_Type\"]].drop_duplicates().groupby(['Stage']).Quote_Type.value_counts()"
   ]
  },
  {
   "cell_type": "code",
   "execution_count": 141,
   "metadata": {},
   "outputs": [
    {
     "data": {
      "text/plain": [
       "0.00044550129604290986"
      ]
     },
     "execution_count": 141,
     "metadata": {},
     "output_type": "execute_result"
    }
   ],
   "source": [
    "entropia_q_1 = entropy(np.array([4650,5007]))\n",
    "entropia_q_0 = entropy(np.array([66,64]))\n",
    "entropia_inicial - ( (4650+5007)/(4719+5072) * entropia_q_1) -  ( (66+64)/(4719+5072) * entropia_q_0)\n",
    "# esta variable no es un buen indicador."
   ]
  },
  {
   "cell_type": "code",
   "execution_count": null,
   "metadata": {},
   "outputs": [],
   "source": []
  }
 ],
 "metadata": {
  "kernelspec": {
   "display_name": "Python 3",
   "language": "python",
   "name": "python3"
  },
  "language_info": {
   "codemirror_mode": {
    "name": "ipython",
    "version": 3
   },
   "file_extension": ".py",
   "mimetype": "text/x-python",
   "name": "python",
   "nbconvert_exporter": "python",
   "pygments_lexer": "ipython3",
   "version": "3.6.9"
  }
 },
 "nbformat": 4,
 "nbformat_minor": 4
}
